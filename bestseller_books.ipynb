{
  "nbformat": 4,
  "nbformat_minor": 0,
  "metadata": {
    "colab": {
      "name": "ssd_lab6_q1_final",
      "provenance": []
    },
    "kernelspec": {
      "name": "python3",
      "display_name": "Python 3"
    }
  },
  "cells": [
    {
      "cell_type": "code",
      "metadata": {
        "id": "TmHy9B72LJnl",
        "outputId": "823530f4-51e8-411a-c1f9-44d155f16386",
        "colab": {
          "base_uri": "https://localhost:8080/",
          "height": 35
        }
      },
      "source": [
        "!pip install beautifulsoup4"
      ],
      "execution_count": 1,
      "outputs": [
        {
          "output_type": "stream",
          "text": [
            "Requirement already satisfied: beautifulsoup4 in /usr/local/lib/python3.6/dist-packages (4.6.3)\n"
          ],
          "name": "stdout"
        }
      ]
    },
    {
      "cell_type": "code",
      "metadata": {
        "id": "PJvzJRbwLUat",
        "outputId": "3f9bcbba-8d2d-41ff-cc8a-1b2e62ed828f",
        "colab": {
          "base_uri": "https://localhost:8080/",
          "height": 74
        }
      },
      "source": [
        "from bs4 import BeautifulSoup as blsp\n",
        "from urllib.request import urlopen\n",
        "import csv\n",
        "\n",
        "amz_url = \"https://www.amazon.in/gp/bestsellers/books/\"\n",
        "url_page = urlopen(amz_url)\n",
        "page_code = url_page.read()\n",
        "url_page.close()\n",
        "\n",
        "page_html = blsp(page_code,\"html.parser\")\n",
        "book_blocks = page_html.findAll(\"span\",{\"class\":\"aok-inline-block zg-item\"})\n",
        "\n",
        "all_books_list = []\n",
        "\n",
        "for block in book_blocks:\n",
        "  try:\n",
        "    bname = block.find(\"div\",{\"class\":\"p13n-sc-truncate p13n-sc-line-clamp-1 p13n-sc-truncate-desktop-type2\"}).string.strip()\n",
        "  except:\n",
        "    bname = \"Not available\"\n",
        "  try:\n",
        "    bauthor = block .find(\"a\",{\"class\":\"a-size-small a-link-child\"}).string.strip()\n",
        "  except:\n",
        "    try:\n",
        "      bauthor = block .find(\"span\",{\"class\":\"a-size-small a-color-base\"}).string.strip()\n",
        "    except:\n",
        "      bauthor = \"Not available\"\n",
        "  try:\n",
        "    bprice = block.find(\"span\",{\"class\":\"p13n-sc-price\"}).string.strip()\n",
        "  except:\n",
        "    bprice = \"Not available\"\n",
        "  try:\n",
        "    bstars = block.find(\"span\",{\"class\":\"a-icon-alt\"}).string.strip()\n",
        "  except:\n",
        "    bstars = \"Not available\"\n",
        "  try:\n",
        "    brats = block.find(\"a\",{\"class\":\"a-size-small a-link-normal\"}).string.strip()\n",
        "  except:\n",
        "    brats = \"Not available\"\n",
        "  try:\n",
        "    burl =  block.find(\"a\",{\"class\":\"a-link-normal\"})['href'].strip()\n",
        "  except:\n",
        "    burl = \"Not available\"\n",
        "  blist = [bname,burl,bauthor,bprice[2:],brats,bstars]\n",
        "  all_books_list.append(blist)\n",
        "\n",
        "amz_url = \"https://www.amazon.in/gp/bestsellers/books/ref=zg_bs_pg_2?ie=UTF8&pg=2\"\n",
        "url_page = urlopen(amz_url)\n",
        "page_code = url_page.read()\n",
        "url_page.close()\n",
        "page_html = blsp(page_code,\"html.parser\")\n",
        "book_blocks = page_html.findAll(\"span\",{\"class\":\"aok-inline-block zg-item\"})\n",
        "for block in book_blocks:\n",
        "  try:\n",
        "    bname = block.find(\"div\",{\"class\":\"p13n-sc-truncate p13n-sc-line-clamp-1 p13n-sc-truncate-desktop-type2\"}).string.strip()\n",
        "  except:\n",
        "    bname = \"Not available\"\n",
        "  try:\n",
        "    bauthor = block .find(\"a\",{\"class\":\"a-size-small a-link-child\"}).string.strip()\n",
        "  except:\n",
        "    try:\n",
        "      bauthor = block .find(\"span\",{\"class\":\"a-size-small a-color-base\"}).string.strip()\n",
        "    except:\n",
        "      bauthor = \"Not available\"\n",
        "  try:\n",
        "    bprice = block.find(\"span\",{\"class\":\"p13n-sc-price\"}).string.strip()\n",
        "  except:\n",
        "    bprice = \"Not available\"\n",
        "  try:\n",
        "    bstars = block.find(\"span\",{\"class\":\"a-icon-alt\"}).string.strip()\n",
        "  except:\n",
        "    bstars = \"Not available\"\n",
        "  try:\n",
        "    brats = block.find(\"a\",{\"class\":\"a-size-small a-link-normal\"}).string.strip()\n",
        "  except:\n",
        "    brats = \"Not available\"\n",
        "  try:\n",
        "    burl =  block.find(\"a\",{\"class\":\"a-link-normal\"})['href'].strip()\n",
        "  except:\n",
        "    burl = \"Not available\"\n",
        "  blist = [bname,burl,bauthor,bprice[2:],brats,bstars]\n",
        "  all_books_list.append(blist)\n",
        "\n",
        "print(len(all_books_list))\n",
        "print(all_books_list)\n",
        "\n",
        "fields = ['Title','URL','Author','Price','Number of Ratings','Average Ratings']\n",
        "filename = \"ssdq1csv.csv\"\n",
        "with open(filename, 'w') as csvfile:\n",
        "    csvwriter = csv.writer(csvfile) \n",
        "    csvwriter.writerow(fields) \n",
        "    csvwriter.writerows(all_books_list)"
      ],
      "execution_count": 8,
      "outputs": [
        {
          "output_type": "stream",
          "text": [
            "100\n",
            "[['One Arranged Murder', '/One-Arranged-Murder-Chetan-Bhagat/dp/1542094135?_encoding=UTF8&psc=1', 'Chetan Bhagat', '141.00', '1,058', '4.2 out of 5 stars'], ['Think Like a Monk', '/Think-Like-Monk-Jay-Shetty/dp/0008386595?_encoding=UTF8&psc=1', 'Jay Shetty', '388.00', '3,538', '4.8 out of 5 stars'], ['Ikigai: The Japanese secret to a long and happy life', '/Ikigai-H%C3%A9ctor-Garc%C3%ADa/dp/178633089X?_encoding=UTF8&psc=1', 'Héctor García', '362.00', '4,595', '4.6 out of 5 stars'], ['My First Library: Boxset of 10 Board Books for Kids', '/My-First-Library-Boxset-Board/dp/9387779262?_encoding=UTF8&psc=1', 'Wonder House Books', '499.00', '6,993', '4.5 out of 5 stars'], ['The Alchemist', '/Alchemist-Paulo-Coelho/dp/8172234988?_encoding=UTF8&psc=1', 'Paulo Coelho', '199.00', '27,748', '4.6 out of 5 stars'], ['World’s Greatest Books For Personal Growth & Wealth (Set of 4 Books): Perfect Motivational Gift Set', '/Worlds-Greatest-Personal-Growth-Wealth/dp/9389432014?_encoding=UTF8&psc=1', 'Various', '329.00', '1,051', '4.5 out of 5 stars'], ['Harry Potter and the Chamber of Secrets', '/Harry-Potter-Chamber-Secrets-Rowling/dp/1408845652?_encoding=UTF8&psc=1', 'J.K. Rowling', '1,154.00', '12,510', '4.7 out of 5 stars'], ['A Brief History of Modern India (2019-2020 Edition) by  Spectrum Books', '/Brief-History-Modern-2019-2020-Spectrum/dp/8179307212?_encoding=UTF8&psc=1', 'Spectrum Books Pvt.Ltd.', '225.00', '2,344', '4.5 out of 5 stars'], ['Attitude Is Everything: Change Your Attitude ... Change Your Life!', '/Attitude-Everything-Change-Your-Life/dp/9351772071?_encoding=UTF8&psc=1', 'Jeff Keller', '119.00', '4,352', '4.5 out of 5 stars'], ['Oxford Student Atlas for India - Third Edition', '/Oxford-Student-Atlas-India-Third/dp/0190123281?_encoding=UTF8&psc=1', 'Oxford University Press', '219.00', '1,566', '4.6 out of 5 stars'], ['The Tower of Nero (The Trials of Apollo Book 5)', '/Tower-Nero-Trials-Apollo-Book/dp/0141364084?_encoding=UTF8&psc=1', 'Rick Riordan', '534.00', '792', '4.9 out of 5 stars'], ['Word Power Made Easy', '/Word-Power-Made-Norman-Lewis/dp/8183071007?_encoding=UTF8&psc=1', 'Norman Lewis', '141.00', '13,657', '4.4 out of 5 stars'], ['Quantitative Aptitude for Competitive Examinations', '/Quantitative-Aptitude-Competitive-Examinations-Aggarwal/dp/9352534026?_encoding=UTF8&psc=1', 'R S Aggarwal', '530.00', '6,244', '4.4 out of 5 stars'], ['Great Stories for Children', '/Great-Stories-Children-Ruskin-Bond/dp/8129118920?_encoding=UTF8&psc=1', 'Ruskin Bond', '123.00', '1,863', '4.5 out of 5 stars'], [\"Grandma's Bag of Stories\", '/Grandmas-Bag-Stories-Sudha-Murty/dp/0143333623?_encoding=UTF8&psc=1', 'Sudha Murty', '235.00', '2,237', '4.6 out of 5 stars'], ['The Power of your Subconscious Mind', '/Power-your-Subconscious-Mind/dp/8192910962?_encoding=UTF8&psc=1', 'Joseph Murphy', '90.00', '19,659', '4.5 out of 5 stars'], ['CHEAT SHEET - SCIENCE & SOCIAL SCIENCE CLASS 10 BY BHAI KI PADHAI', '/CHEAT-SHEET-SCIENCE-SOCIAL-PADHAI/dp/B08KW9WBS1?_encoding=UTF8&psc=1', 'BHAI KI PADHAI', '969.00', '20', '4.8 out of 5 stars'], ['Indian Polity - For Civil Services and Other State Examinations | 6th Edition', '/Indian-Polity-Civil-Services-Examinations/dp/B07Y3CJJCR?_encoding=UTF8&psc=1', 'M. Laxmikanth', '660.00', '3,470', '4.6 out of 5 stars'], ['Very First Sight Words Sentences Level - 1', '/First-Sight-Words-Sentences-Level/dp/9387971996?_encoding=UTF8&psc=1', 'Dreamland Publications', '112.00', '768', '4.6 out of 5 stars'], ['Think and Grow Rich', '/Think-Grow-Rich-Napoleon-Hill/dp/8192910911?_encoding=UTF8&psc=1', 'Napoleon Hill', '149.00', '25,164', '4.5 out of 5 stars'], ['25 Years UPSC IAS/ IPS Prelims Topic-wise Solved Papers 1 & 2 (1995-2019)', '/Prelims-Topic-wise-Solved-Papers-1995-2019/dp/9389187389?_encoding=UTF8&psc=1', 'Disha Experts', '289.00', '2,405', '4.4 out of 5 stars'], ['Picture Books Collection for Early Learning (Set of 12)', '/Picture-Books-Collection-Early-Learning/dp/B01M0QGF0P?_encoding=UTF8&psc=1', 'E C Axus', '237.00', '2,681', '4.2 out of 5 stars'], ['101 Panchatantra Stories', '/101-Panchatantra-Stories-Dreamland-Publications/dp/938797149X?_encoding=UTF8&psc=1', 'Dreamland Publications', '119.00', '1,861', '4.3 out of 5 stars'], ['Rich Dad Poor Dad : What The Rich Teach Their Kids About Money That the Poor and Middle Class Do Not!', '/Rich-Dad-Poor-Middle-Updates/dp/1612680194?_encoding=UTF8&psc=1', 'Robert T. Kiyosaki', '310.00', '26,019', '4.5 out of 5 stars'], ['The Intelligent Investor (English) Paperback – 2013', '/Intelligent-Investor-English-Paperback-2013/dp/0062312685?_encoding=UTF8&psc=1', 'Benjamin Graham', '454.00', '10,111', '4.4 out of 5 stars'], ['Wings of Fire: An Autobiography of Abdul Kalam', '/Wings-Fire-Autobiography-Abdul-Kalam/dp/8173711461?_encoding=UTF8&psc=1', 'Arun Tiwari', '182.00', '4,539', '4.6 out of 5 stars'], ['The Blue Umbrella', '/Blue-Umbrella-Ruskin-Bond/dp/8171673406?_encoding=UTF8&psc=1', 'Ruskin Bond', '76.00', '2,112', '4.5 out of 5 stars'], ['General Knowledge', '/General-Knowledge-Dr-Binay-Karna/dp/9384761540?_encoding=UTF8&psc=1', 'Dr. Binay Karna', '176.00', '6,692', '4.4 out of 5 stars'], ['The Monk Who Sold His Ferrari', '/Monk-Who-Sold-His-Ferrari/dp/817992162X?_encoding=UTF8&psc=1', 'Robin Sharma', '156.00', '8,168', '4.6 out of 5 stars'], ['Atomic Habits: The life-changing million copy bestseller', '/Atomic-Habits-James-Clear/dp/1847941834?_encoding=UTF8&psc=1', 'James Clear', '549.00', '6,086', '4.6 out of 5 stars'], ['The Psychology of Money', '/Psychology-Money-Morgan-Housel/dp/9390166268?_encoding=UTF8&psc=1', 'Morgan Housel', '326.00', '790', '4.7 out of 5 stars'], ['Writing Practice Boxset: Pack of 4 Books (Writing Fun: Write And Practice Capital Letters, Small Letters, Patterns and Numbers 1 to 10)', '/Writing-Fun-Set-Books-Practice/dp/9387779777?_encoding=UTF8&psc=1', 'Wonder House Books', '199.00', '810', '4.4 out of 5 stars'], ['Indian Economy for Civil Services, Universities and Other Examinations | 12th Revised Edition', '/Economy-Services-Universities-Examinations-Revised/dp/B08BJ4KL27?_encoding=UTF8&psc=1', 'Ramesh Singh', '386.00', '222', '4.2 out of 5 stars'], ['Amazon Brand - Solimo Board Books for Kids (Set of 10)', '/Amazon-Brand-Solimo-Board-Books/dp/B07BF3T95C?_encoding=UTF8&psc=1&smid=AT95IG9ONZD7S', 'Solimo', '409.00', '1,664', '4.5 out of 5 stars'], ['The Complete Novels of Sherlock Holmes', '/Complete-Novels-Sherlock-Holmes/dp/8175994312?_encoding=UTF8&psc=1', 'Arthur Conan Doyle', '139.00', '4,849', '4.5 out of 5 stars'], ['General Knowledge 2021', '/General-Knowledge-2021-Manohar-Pandey/dp/9324195395?_encoding=UTF8&psc=1', 'Manohar Pandey', '30.00', '865', '4.2 out of 5 stars'], ['Indian Art and Culture for Civil Services and other Competitive Examinations', '/Indian-Culture-Services-Competitive-Examinations/dp/9353168198?_encoding=UTF8&psc=1', 'Nitin Singhania', '477.00', '940', '4.6 out of 5 stars'], ['505 Activities for Kids', '/505-Activities-Kids-Dreamland-Publications/dp/935089968X?_encoding=UTF8&psc=1', 'Dreamland Publications', '175.00', '1,453', '4.5 out of 5 stars'], ['The Theory of Everything', '/Theory-Everything-Stephen-Hawking/dp/8179925919?_encoding=UTF8&psc=1', 'Stephen Hawking', '144.00', '2,874', '4.6 out of 5 stars'], ['My First Book of Patterns Pencil Control: Patterns Practice book for kids (Pattern Writing)', '/First-Book-Patterns-Pencil-Control/dp/9387779319?_encoding=UTF8&psc=1', 'Wonder House Books', '139.00', '2,119', '4.5 out of 5 stars'], ['The 5 AM Club: Own Your Morning, Elevate Your Life', '/AM-Club-Your-Morning-Elevate/dp/9387944891?_encoding=UTF8&psc=1', 'Robin Sharma', '214.00', '5,859', '4.4 out of 5 stars'], [\"The Official Cambridge Guide To Ielts Student's Book With Answers With Dvd Rom\", '/Official-Cambridge-Guide-Students-Answers/dp/110744277X?_encoding=UTF8&psc=1', 'Pauline Cullen', '449.00', '1,378', '4.3 out of 5 stars'], ['The Girl in Room 105', '/Girl-Room-105-Chetan-Bhagat/dp/1542040469?_encoding=UTF8&psc=1', 'Chetan Bhagat', '180.00', '6,980', '4.3 out of 5 stars'], ['My Activity- ABC Colouring Book', '/My-Activity-ABC-Colouring-Book/dp/9350898853?_encoding=UTF8&psc=1', 'Dreamland Publications', '80.00', '349', '4.5 out of 5 stars'], ['Lines and Curves (Pattern Writing) - Part 1', '/Lines-Curves-Pattern-Writing-Part/dp/1730152287?_encoding=UTF8&psc=1', 'Dreamland Publications', '76.00', '1,138', '4.4 out of 5 stars'], ['A Modern Approach to Verbal & Non-Verbal Reasoning (2 Colour Edition)', '/Modern-Approach-Verbal-Non-Verbal-Reasoning/dp/9352832167?_encoding=UTF8&psc=1', 'R.S. Aggarwal', '608.00', '2,613', '4.4 out of 5 stars'], ['Certificate Physical And Human Geography; Indian Edition', '/Certificate-Physics-Human-Geography-Indian/dp/0195628160?_encoding=UTF8&psc=1', 'Goh Cheng Leong', '246.00', '3,408', '4.5 out of 5 stars'], ['How to Win Friends and Influence People', '/How-Win-Friends-Influence-People/dp/8192910997?_encoding=UTF8&psc=1', 'Dale Carnegie', '175.00', '23,842', '4.5 out of 5 stars'], ['1001 Activities Book', '/1001-Activities-Book-Dreamland-Publications/dp/9350897245?_encoding=UTF8&psc=1&smid=AT95IG9ONZD7S', 'Dreamland Publications', '260.00', '1,939', '4.5 out of 5 stars'], [\"Harry Potter and the Philosopher's Stone\", '/Harry-Potter-Philosophers-Stone-Rowling/dp/1408855658?_encoding=UTF8&psc=1', 'J.K. Rowling', '285.00', '13,960', '4.7 out of 5 stars'], ['Environment By Shankar (7th) Revised Edition (2019-2020 Session)', '/Environment-SHANKAR-6th-Revised-2018/dp/B07KF7H5JS?_encoding=UTF8&psc=1', 'Shankar', '376.00', '2,706', '4.3 out of 5 stars'], ['Wren & Martin High School English Grammar and Composition Book (Regular Edition)', '/School-English-Grammar-Composition-Regular/dp/9352530144?_encoding=UTF8&psc=1', 'Rao N', '279.00', '2,306', '4.4 out of 5 stars'], ['My First Learning Library Box Set: 20 Board Books Gift Set for Kids (Horizontal Design)', '/First-Learning-Library-Box-Set/dp/9388369882?_encoding=UTF8&psc=1', 'Wonder House Books', '899.00', '1,704', '4.5 out of 5 stars'], ['You Only Live Once: Author Signed Limited Edition', '/You-Only-Live-Once-Limited/dp/B084VJ84ZJ?_encoding=UTF8&psc=1', 'Stuti Changle', '150.00', '243', '4.6 out of 5 stars'], ['Lexicon for Ethics, Integrity & Aptitude for IAS General Studies - 6th Paper Edition 2020', '/Lexicon-Integrity-Aptitude-General-Studies/dp/8194204828?_encoding=UTF8&psc=1', 'Niraj Kumar', '384.00', '366', '4.4 out of 5 stars'], ['Death; An Inside Story: A book for all those who shall die', '/Death-Inside-Story-those-shall/dp/0143450832?_encoding=UTF8&psc=1', 'Sadhguru', '263.00', '2,133', '4.7 out of 5 stars'], ['Colour with Crayons Part - 1', '/Colour-Crayons-Part-Dreamland-Publications/dp/1730175066?_encoding=UTF8&psc=1', 'Dreamland Publications', '56.00', '1,171', '4.1 out of 5 stars'], ['Bhagavad Gita: Yatharoop (Hindi)', '/Bhagavad-Gita-Bhaktivendanta-Swami-Prabhupada/dp/938598618X?_encoding=UTF8&psc=1', 'A.C. Bhaktivendanta Swami Prabhupada', '175.00', '3,510', '4.8 out of 5 stars'], ['Life is What You Make It', '/Life-What-Make-Preeti-Shenoy/dp/9380349300?_encoding=UTF8&psc=1', 'Preeti Shenoy', '97.00', '5,474', '4.1 out of 5 stars'], ['Refreshing Mandala - Colouring Book for Adults Book 1', '/Refreshing-Mandala-Colouring-Book-Adults/dp/9350897601?_encoding=UTF8&psc=1', 'Dreamland Publications', '175.00', '1,394', '4.6 out of 5 stars'], ['7 Years UPSC IAS/ IPS Mains General Studies Papers 1 - 4 Year-wise Solved (2013 - 2019)', '/Years-Mains-General-Studies-Papers/dp/9387045838?_encoding=UTF8&psc=1', 'Disha Experts', '161.00', '541', '4.3 out of 5 stars'], ['Objective General English', '/Objective-General-English-S-P-Bakshi/dp/9351768449?_encoding=UTF8&psc=1', 'S.P. Bakshi', '187.00', '4,486', '4.2 out of 5 stars'], ['World Map', '/World-Map-Dreamland-Publications/dp/8184511213?_encoding=UTF8&psc=1', 'Dreamland Publications', '86.00', '3,346', '4.4 out of 5 stars'], ['The Subtle Art of Not Giving a F*ck', '/Subtle-Art-Not-Giving/dp/0062641549?_encoding=UTF8&psc=1', 'Mark Manson', '298.00', '23,392', '4.4 out of 5 stars'], ['The Gopi Diaries: Coming Home', '/Gopi-Diaries-Coming-Home/dp/9353575885?_encoding=UTF8&psc=1', 'Sudha Murty', '176.00', '278', '4.6 out of 5 stars'], ['Rich Dad Poor Dad - 20th Anniversary Edition (Hindi)', '/Rich-Dad-Poor-Robert-Kiyosaki/dp/8186775218?_encoding=UTF8&psc=1', 'Robert T. Kiyosaki', '179.00', '2,986', '4.6 out of 5 stars'], ['The Science of Mind Management', '/Science-Mind-Management-Swami-Mukundananda/dp/9389648440?_encoding=UTF8&psc=1', 'Swami Mukundananda', '280.00', '129', '4.8 out of 5 stars'], ['My First 1000 Words: Early Learning Picture Book to learn Alphabet, Numbers, Shapes and Colours, Transport, Birds and Animals, Professions, Opposite ... Parts of the body and Objects Around Us.', '/First-1000-Words-Transport-Professions/dp/9388144112?_encoding=UTF8&psc=1', 'Wonder House Books', '189.00', '829', '4.5 out of 5 stars'], ['Challenges to Internal Security of India (Third Edition)', '/Challenges-Internal-Security-India-Third/dp/9353167175?_encoding=UTF8&psc=1', 'Ashok Kumar', '253.00', '731', '4.6 out of 5 stars'], ['Ruskin Bond - Best Selling Children Story Books Collection (Set of 4 Books)', '/Ruskin-Bond-Selling-Children-Collection/dp/8131964817?_encoding=UTF8&psc=1', 'Ruskin Bond', '419.00', '166', '4.4 out of 5 stars'], ['Cracking the Coding Interview (Indian Edition)', '/Cracking-the-Coding-Interview/dp/0984782869?_encoding=UTF8&psc=1', 'Gayle Laakmann McDowell', '446.00', '307', '4.4 out of 5 stars'], ['Bhagvad gita as it is english new edition', '/Bhagvad-gita-as-english-new/dp/9384564192?_encoding=UTF8&psc=1', 'His Divine Grace A.C. Bhaktivedanta…', '259.00', '2,530', '4.7 out of 5 stars'], ['The Immortals of Meluha (Shiva Trilogy): 1', '/Immortals-Meluha-Shiva-Trilogy/dp/9380658745?_encoding=UTF8&psc=1', 'Amish', '208.00', '5,767', '4.6 out of 5 stars'], ['Who Will Cry When You Die?', '/Who-Will-Cry-When-You/dp/8179922324?_encoding=UTF8&psc=1', 'Robin Sharma', '142.00', '5,651', '4.5 out of 5 stars'], ['Brain Games for Clever Kids: Puzzles to Exercise Your Mind (Buster Brain Games)', '/Brain-Games-Clever-Kids-Buster/dp/1780552491?_encoding=UTF8&psc=1', 'Gareth Moore', '224.00', '2,111', '4.3 out of 5 stars'], ['Be Your Own Sunshine', '/Your-Own-Sunshine-James-Allen/dp/9387022854?_encoding=UTF8&psc=1', 'James Allen', '96.00', '72', '4.1 out of 5 stars'], ['One Indian Girl', '/One-Indian-Girl-Chetan-Bhagat/dp/8129142147?_encoding=UTF8&psc=1', 'Chetan Bhagat', '78.00', '8,089', '3.9 out of 5 stars'], ['Bharat Ki Rajvyavastha - Civil Seva Evam Anya Rajya Parikshao Hetu | 6th Edition (Hindi)', '/Bharat-Ki-Rajvyavastha-Civil-Parikshao/dp/9389538483?_encoding=UTF8&psc=1', 'M. Laxmikanth', '489.00', '1,111', '4.5 out of 5 stars'], ['A Man Called Ove: The life-affirming bestseller that will brighten your day', '/Man-Called-Ove-life-affirming-bestseller/dp/1444775812?_encoding=UTF8&psc=1', 'Fredrik Backman', '299.00', '17,560', '4.7 out of 5 stars'], [\"Life's Amazing Secrets: How to Find Balance and Purpose in Your Life\", '/Lifes-Amazing-Secrets-Balance-Purpose/dp/0143442295?_encoding=UTF8&psc=1', 'Gaur Gopal Das', '230.00', '4,545', '4.6 out of 5 stars'], ['Mahatma Gandhi Autobiography: The Story Of My Experiments With Truth', '/Mahatma-Gandhi-Autobiography-Story-Experiments/dp/8172343116?_encoding=UTF8&psc=1', 'Mahatma Gandhi', '139.00', '1,424', '4.5 out of 5 stars'], ['Objective NCERT at your FINGERTIPS for NEET-AIIMS - Biology', '/Objective-NCERT-your-FINGERTIPS-NEET-AIIMS/dp/9389971241?_encoding=UTF8&psc=1', 'MTG Editorial Board', '584.00', '51', '4.5 out of 5 stars'], ['101 Animals Stories', '/101-Animals-Stories-Dreamland-Publications/dp/9387971449?_encoding=UTF8&psc=1', 'Dreamland Publications', '119.00', '632', '4.3 out of 5 stars'], ['Legend of Suheldev: The King Who Saved India', '/Suheldev-Battle-Bahraich-Amish-Tripathi/dp/9387894037?_encoding=UTF8&psc=1', 'Amish', '287.00', '1,467', '4.3 out of 5 stars'], ['Peppa Pig: Little Library', '/Peppa-Pig-Little-Library-Ladybird/dp/1409303187?_encoding=UTF8&psc=1', 'Peppa Pig', '194.00', '7,199', '4.2 out of 5 stars'], ['SSB Interview: The Complete Guide', '/SSB-Interview-Dr-N-K-Natarajan/dp/8184955693?_encoding=UTF8&psc=1', 'Dr. N.K. Natarajan', '173.00', '1,113', '4.3 out of 5 stars'], ['And Then There Were None', '/Then-There-Were-None/dp/0008123209?_encoding=UTF8&psc=1', 'Agatha Christie', '164.00', '7,329', '4.6 out of 5 stars'], ['Creative Doodle Colouring - Patterns', '/Creative-Doodle-Colouring-Dreamland-Publications/dp/9350897946?_encoding=UTF8&psc=1&smid=AT95IG9ONZD7S', 'Dreamland Publications', '130.00', '501', '4.5 out of 5 stars'], ['Why I am an Atheist and Other Works', '/Atheist-Other-Works-Bhagat-Singh/dp/9387022811?_encoding=UTF8&psc=1', 'Bhagat Singh', '96.00', '390', '4.5 out of 5 stars'], ['Harry Potter Box Set: The Complete Collection (Children’s Paperback) (Set of 7 Volumes)', '/Harry-Potter-ChildrenS-Paperback-Boxed/dp/1408856778?_encoding=UTF8&psc=1', 'J.K. Rowling', '2,550.00', '9,654', '4.6 out of 5 stars'], [\"Children's Encyclopedia - Scientists, Inventions And Discoveries: The World of Knowledge\", '/Childrens-Encyclopedia-Scientists-Discoveries-Familiarises/dp/9350570394?_encoding=UTF8&psc=1', 'MANASVI VOHRA', '166.00', '534', '4.2 out of 5 stars'], ['International Mathematics Olympiad Work Book -Class 2', '/International-Mathematics-Olympiad-Work-Class/dp/938959054X?_encoding=UTF8&psc=1', 'MAHABIR SINGH', '80.00', '491', '4.5 out of 5 stars'], ['All In One - Writing Book (Practice)', '/All-one-writing-Maple-Press/dp/9350337657?_encoding=UTF8&psc=1', 'Maple Press', '108.00', '299', '4.5 out of 5 stars'], ['Concept of Physics Part-1 (2019-2020 Session) by H.C Verma', '/Concept-Physics-Part-1-2018-2019-Session/dp/8177091875?_encoding=UTF8&psc=1', 'H.C. Verma', '370.00', '3,352', '4.6 out of 5 stars'], ['Apke Avchetan Man Ki Shakti (The Power of your Subconscious Mind in Hindi)', '/Avchetan-Shakti-Power-Subconscious-Hindi/dp/8175993669?_encoding=UTF8&psc=1', 'Joseph Murphy', '149.00', '2,439', '4.5 out of 5 stars'], ['Indian Polity for Civil Services and Other State Examinations | 6th Edition in Paperback', '/Indian-Polity-Services-Examinations-Paperback/dp/B088NKYQGW?_encoding=UTF8&psc=1', 'M. Laxmikanth', '427.00', '3,470', '4.6 out of 5 stars'], ['Wuthering Heights', '/Wuthering-Heights-Emily-Bront%C3%AB/dp/8172344899?_encoding=UTF8&psc=1', 'Emily Brontë', '139.00', '10,166', '4.4 out of 5 stars'], ['Tharoorosaurus', '/Tharoorosaurus-Shashi-Tharoor/dp/0670092606?_encoding=UTF8&psc=1', 'Shashi Tharoor', '345.00', '65', '4.6 out of 5 stars'], ['365 Colouring Book', '/365-Colouring-Book-Dreamland-Publications/dp/9350895668?_encoding=UTF8&psc=1', 'Dreamland Publications', '210.00', '698', '4.5 out of 5 stars'], ['101 Bedtime Stories', '/101-Bedtime-Stories-Dreamland-Publications/dp/9387971457?_encoding=UTF8&psc=1', 'Dreamland Publications', '119.00', '529', '3.9 out of 5 stars']]\n"
          ],
          "name": "stdout"
        }
      ]
    }
  ]
}